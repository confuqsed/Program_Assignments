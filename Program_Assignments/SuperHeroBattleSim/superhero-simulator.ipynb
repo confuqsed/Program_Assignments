{
 "cells": [
  {
   "cell_type": "code",
   "execution_count": 4,
   "metadata": {},
   "outputs": [
    {
     "ename": "ImportError",
     "evalue": "cannot import name 'Armor' from 'armor' (/Users/kevinly/Documents/GitHub/Program_Assignments/Program_Assignments/SuperHeroBattleSim/armor.py)",
     "output_type": "error",
     "traceback": [
      "\u001b[0;31m---------------------------------------------------------------------------\u001b[0m",
      "\u001b[0;31mImportError\u001b[0m                               Traceback (most recent call last)",
      "Cell \u001b[0;32mIn[4], line 3\u001b[0m\n\u001b[1;32m      1\u001b[0m \u001b[38;5;28;01mfrom\u001b[39;00m \u001b[38;5;21;01mhero\u001b[39;00m \u001b[38;5;28;01mimport\u001b[39;00m Hero\n\u001b[1;32m      2\u001b[0m \u001b[38;5;28;01mfrom\u001b[39;00m \u001b[38;5;21;01mability\u001b[39;00m \u001b[38;5;28;01mimport\u001b[39;00m Ability\n\u001b[0;32m----> 3\u001b[0m \u001b[38;5;28;01mfrom\u001b[39;00m \u001b[38;5;21;01marmor\u001b[39;00m \u001b[38;5;28;01mimport\u001b[39;00m Armor\n\u001b[1;32m      5\u001b[0m my_hero \u001b[38;5;241m=\u001b[39m Hero(\u001b[38;5;124m\"\u001b[39m\u001b[38;5;124mBatman\u001b[39m\u001b[38;5;124m\"\u001b[39m, \u001b[38;5;241m200\u001b[39m)\n\u001b[1;32m      6\u001b[0m \u001b[38;5;28mprint\u001b[39m(my_hero\u001b[38;5;241m.\u001b[39mname)\n",
      "\u001b[0;31mImportError\u001b[0m: cannot import name 'Armor' from 'armor' (/Users/kevinly/Documents/GitHub/Program_Assignments/Program_Assignments/SuperHeroBattleSim/armor.py)"
     ]
    }
   ],
   "source": [
    "from hero import Hero\n",
    "from ability import Ability\n",
    "from armor import Armor\n",
    "\n",
    "my_hero = Hero(\"Batman\", 200)\n",
    "print(my_hero.name)\n",
    "print(my_hero.current_health)\n",
    "\n",
    "lazer_eyes = Ability(\"Lazer Eyes\", 50)\n",
    "print(lazer_eyes.name)\n",
    "print(lazer_eyes.attack())\n",
    "\n",
    "super_shield = Armor(\"Super Shield\", 100)\n",
    "print(super_shield.name)\n",
    "print(super_shield.block())"
   ]
  },
  {
   "cell_type": "code",
   "execution_count": null,
   "metadata": {},
   "outputs": [],
   "source": []
  },
  {
   "cell_type": "markdown",
   "metadata": {},
   "source": []
  },
  {
   "cell_type": "code",
   "execution_count": null,
   "metadata": {},
   "outputs": [],
   "source": []
  }
 ],
 "metadata": {
  "kernelspec": {
   "display_name": "Python 3",
   "language": "python",
   "name": "python3"
  },
  "language_info": {
   "codemirror_mode": {
    "name": "ipython",
    "version": 3
   },
   "file_extension": ".py",
   "mimetype": "text/x-python",
   "name": "python",
   "nbconvert_exporter": "python",
   "pygments_lexer": "ipython3",
   "version": "3.12.4"
  }
 },
 "nbformat": 4,
 "nbformat_minor": 2
}
