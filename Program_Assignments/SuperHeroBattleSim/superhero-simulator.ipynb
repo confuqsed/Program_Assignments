{
 "cells": [
  {
   "cell_type": "code",
   "execution_count": 10,
   "metadata": {},
   "outputs": [
    {
     "ename": "NameError",
     "evalue": "name 'name' is not defined",
     "output_type": "error",
     "traceback": [
      "\u001b[0;31m---------------------------------------------------------------------------\u001b[0m",
      "\u001b[0;31mNameError\u001b[0m                                 Traceback (most recent call last)",
      "Cell \u001b[0;32mIn[10], line 1\u001b[0m\n\u001b[0;32m----> 1\u001b[0m \u001b[38;5;28;01mfrom\u001b[39;00m \u001b[38;5;21;01mhero\u001b[39;00m \u001b[38;5;28;01mimport\u001b[39;00m Hero\n\u001b[1;32m      3\u001b[0m my_hero \u001b[38;5;241m=\u001b[39m Hero(\u001b[38;5;124m\"\u001b[39m\u001b[38;5;124mBatman\u001b[39m\u001b[38;5;124m\"\u001b[39m, \u001b[38;5;241m200\u001b[39m)\n\u001b[1;32m      4\u001b[0m \u001b[38;5;28mprint\u001b[39m(my_hero\u001b[38;5;241m.\u001b[39mname)\n",
      "File \u001b[0;32m~/Documents/GitHub/Program_Assignments/Program_Assignments/SuperHeroBattleSim/hero.py:14\u001b[0m\n\u001b[1;32m      6\u001b[0m \u001b[38;5;250m        \u001b[39m\u001b[38;5;124;03m'''Instance properties:\u001b[39;00m\n\u001b[1;32m      7\u001b[0m \u001b[38;5;124;03m        name: String\u001b[39;00m\n\u001b[1;32m      8\u001b[0m \u001b[38;5;124;03m        starting_health: Integer\u001b[39;00m\n\u001b[1;32m      9\u001b[0m \n\u001b[1;32m     10\u001b[0m \u001b[38;5;124;03m        current_health: Integer\u001b[39;00m\n\u001b[1;32m     11\u001b[0m \u001b[38;5;124;03m    '''\u001b[39;00m\n\u001b[1;32m     13\u001b[0m \u001b[38;5;66;03m# We know the name of our hero, so we assign it here\u001b[39;00m\n\u001b[0;32m---> 14\u001b[0m \u001b[38;5;28mself\u001b[39m\u001b[38;5;241m.\u001b[39mname \u001b[38;5;241m=\u001b[39m \u001b[43mname\u001b[49m\n\u001b[1;32m     15\u001b[0m \u001b[38;5;66;03m# Similarly, our starting health is passed in, just like name\u001b[39;00m\n\u001b[1;32m     16\u001b[0m \u001b[38;5;28mself\u001b[39m\u001b[38;5;241m.\u001b[39mstarting_health \u001b[38;5;241m=\u001b[39m starting_health\n",
      "\u001b[0;31mNameError\u001b[0m: name 'name' is not defined"
     ]
    }
   ],
   "source": [
    "from hero import Hero\n",
    "\n",
    "my_hero = Hero(\"Batman\", 200)\n",
    "print(my_hero.name)\n",
    "print(my_hero.current_health)"
   ]
  }
 ],
 "metadata": {
  "kernelspec": {
   "display_name": "Python 3",
   "language": "python",
   "name": "python3"
  },
  "language_info": {
   "codemirror_mode": {
    "name": "ipython",
    "version": 3
   },
   "file_extension": ".py",
   "mimetype": "text/x-python",
   "name": "python",
   "nbconvert_exporter": "python",
   "pygments_lexer": "ipython3",
   "version": "3.12.4"
  }
 },
 "nbformat": 4,
 "nbformat_minor": 2
}
