{
 "cells": [
  {
   "cell_type": "code",
   "execution_count": 1,
   "metadata": {},
   "outputs": [
    {
     "name": "stdout",
     "output_type": "stream",
     "text": [
      "Batman\n",
      "200\n",
      "Lazer Eyes\n",
      "49\n",
      "Super Shield\n",
      "13\n"
     ]
    }
   ],
   "source": [
    "from hero import Hero\n",
    "from ability import Ability\n",
    "from armor import Armor\n",
    "\n",
    "my_hero = Hero(\"Batman\", 200)\n",
    "print(my_hero.name)\n",
    "print(my_hero.current_health)\n",
    "\n",
    "lazer_eyes = Ability(\"Lazer Eyes\", 50)\n",
    "print(lazer_eyes.name)\n",
    "print(lazer_eyes.attack())\n",
    "\n",
    "super_shield = Armor(\"Super Shield\", 100)\n",
    "print(super_shield.name)\n",
    "print(super_shield.block())"
   ]
  },
  {
   "cell_type": "code",
   "execution_count": null,
   "metadata": {},
   "outputs": [],
   "source": []
  },
  {
   "cell_type": "markdown",
   "metadata": {},
   "source": []
  },
  {
   "cell_type": "code",
   "execution_count": null,
   "metadata": {},
   "outputs": [],
   "source": []
  }
 ],
 "metadata": {
  "kernelspec": {
   "display_name": "Python 3",
   "language": "python",
   "name": "python3"
  },
  "language_info": {
   "codemirror_mode": {
    "name": "ipython",
    "version": 3
   },
   "file_extension": ".py",
   "mimetype": "text/x-python",
   "name": "python",
   "nbconvert_exporter": "python",
   "pygments_lexer": "ipython3",
   "version": "3.12.4"
  }
 },
 "nbformat": 4,
 "nbformat_minor": 2
}
